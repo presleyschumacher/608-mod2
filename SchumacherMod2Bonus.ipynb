{
 "cells": [
  {
   "cell_type": "code",
   "execution_count": 1,
   "id": "a8320801",
   "metadata": {},
   "outputs": [],
   "source": [
    "values = [94.16, \t95.3, \t95.04, \t94.92, \t92.58, \t96.47, \t95.86, \t94.56, \t94.65, \t95.94, \t91.23, \t96.59, \t93.46, \t88.41, \t94.4, \t95.54, \t93.88, \t95.94, \t96.9, \t94.08, \t94.88, \t94.85, \t95.52, \t91.77, \t94.19, \t95.13, \t95.82, \t95.42, \t95.45, \t95.76, \t96.86, \t95.9, \t96.72, \t96.36, \t97.22, \t94.1, \t95.77, \t94.42, \t94.3, \t94.33, \t95.99, \t94.78, \t95.06, \t94.12, \t95.01, \t95.69, \t93.65, \t95.62, \t94.81, \t93.8, \t93.64, \t92.69, \t95.86, \t93.68, \t92.8, \t92.96, \t95.15, \t91.97, \t95.67, \t93.34, \t93.8, \t92.16, \t93.73, \t95.59, \t93.09, \t94.28, \t94.88, \t95.98, \t94.7, \t94.13, \t94.14, \t97.02, \t97.46, \t96.1, \t94.36, \t94.45, \t93.3, \t96.16, \t95.35, \t91.2, \t93.59, \t96, \t93.11, \t94.64, \t95.36, \t95.01, \t93.89, \t95.29, \t95.14, \t92.91, \t93.16, \t93.86, \t95.97, \t94.35, \t93.57, \t92.79, \t93.09, \t95.59, \t94.18, \t95.06, \t95.53, \t94.46, \t94.77, \t94.9, \t95.41, \t95.87, \t95.29, \t96.75, \t97.17, \t94.85, \t95.83, \t94.71, \t95.61, \t95.53, \t95.62]"
   ]
  },
  {
   "cell_type": "code",
   "execution_count": 2,
   "id": "cb284746",
   "metadata": {},
   "outputs": [
    {
     "data": {
      "text/plain": [
       "115"
      ]
     },
     "execution_count": 2,
     "metadata": {},
     "output_type": "execute_result"
    }
   ],
   "source": [
    "len(values)"
   ]
  },
  {
   "cell_type": "code",
   "execution_count": 3,
   "id": "dc1c112d",
   "metadata": {},
   "outputs": [
    {
     "data": {
      "text/plain": [
       "10891.710000000005"
      ]
     },
     "execution_count": 3,
     "metadata": {},
     "output_type": "execute_result"
    }
   ],
   "source": [
    "sum(values)"
   ]
  },
  {
   "cell_type": "code",
   "execution_count": 4,
   "id": "5a97cf36",
   "metadata": {},
   "outputs": [],
   "source": [
    "import statistics"
   ]
  },
  {
   "cell_type": "code",
   "execution_count": 5,
   "id": "4b6db5e8",
   "metadata": {},
   "outputs": [
    {
     "data": {
      "text/plain": [
       "94.71052173913043"
      ]
     },
     "execution_count": 5,
     "metadata": {},
     "output_type": "execute_result"
    }
   ],
   "source": [
    "statistics.mean(values)"
   ]
  },
  {
   "cell_type": "code",
   "execution_count": 6,
   "id": "c6132f85",
   "metadata": {},
   "outputs": [
    {
     "data": {
      "text/plain": [
       "94.88"
      ]
     },
     "execution_count": 6,
     "metadata": {},
     "output_type": "execute_result"
    }
   ],
   "source": [
    "statistics.median(values)"
   ]
  },
  {
   "cell_type": "code",
   "execution_count": 7,
   "id": "3461a1d1",
   "metadata": {},
   "outputs": [
    {
     "data": {
      "text/plain": [
       "95.86"
      ]
     },
     "execution_count": 7,
     "metadata": {},
     "output_type": "execute_result"
    }
   ],
   "source": [
    "statistics.mode(values)"
   ]
  },
  {
   "cell_type": "code",
   "execution_count": null,
   "id": "25857dcf",
   "metadata": {},
   "outputs": [],
   "source": []
  }
 ],
 "metadata": {
  "kernelspec": {
   "display_name": "Python 3",
   "language": "python",
   "name": "python3"
  },
  "language_info": {
   "codemirror_mode": {
    "name": "ipython",
    "version": 3
   },
   "file_extension": ".py",
   "mimetype": "text/x-python",
   "name": "python",
   "nbconvert_exporter": "python",
   "pygments_lexer": "ipython3",
   "version": "3.9.12"
  }
 },
 "nbformat": 4,
 "nbformat_minor": 5
}
